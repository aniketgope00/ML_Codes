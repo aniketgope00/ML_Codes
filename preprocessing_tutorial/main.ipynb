{
 "cells": [
  {
   "cell_type": "code",
   "execution_count": 4,
   "metadata": {},
   "outputs": [],
   "source": [
    "#loading data\n",
    "from ucimlrepo import fetch_ucirepo\n",
    "iris = fetch_ucirepo(id = 53)"
   ]
  },
  {
   "cell_type": "code",
   "execution_count": 9,
   "metadata": {},
   "outputs": [],
   "source": [
    "import numpy as np\n",
    "import pandas as pd\n",
    "from sklearn import preprocessing"
   ]
  },
  {
   "cell_type": "code",
   "execution_count": 13,
   "metadata": {},
   "outputs": [
    {
     "name": "stdout",
     "output_type": "stream",
     "text": [
      "(150, 4) (150, 1)\n"
     ]
    }
   ],
   "source": [
    "'''\n",
    "#segregating features and targets\n",
    "\n",
    "X = dataset.iloc[:, :-1].data\n",
    "y = dataset.iloc[:, -1].data\n",
    "\n",
    "'''\n",
    "X = iris.data.features #features\n",
    "y = iris.data.targets #target\n",
    "print(X.shape, y.shape)"
   ]
  },
  {
   "cell_type": "code",
   "execution_count": 19,
   "metadata": {},
   "outputs": [
    {
     "name": "stdout",
     "output_type": "stream",
     "text": [
      "Missing Values in X:\n",
      "\n",
      "sepal length    0\n",
      "sepal width     0\n",
      "petal length    0\n",
      "petal width     0\n",
      "dtype: int64\n",
      "\n",
      "Missing Values in y:\n",
      "\n",
      "class    0\n",
      "dtype: int64\n"
     ]
    },
    {
     "data": {
      "text/plain": [
       "\"\\n#drop missing values: dataset.dropna(inplace = True)\\n\\n#replace missing values:\\n    from sklearn.impute import SimpleImputer\\n    imp = SimpleImputer(missing_values = np.nan, strategy = 'mean')\\n    imp.fit(X[:, slice cols])\\n    X[:, slice cols] = imp.transform(X[:, slice cols])\\n\""
      ]
     },
     "execution_count": 19,
     "metadata": {},
     "output_type": "execute_result"
    }
   ],
   "source": [
    "#handling missing data\n",
    "print(\"Missing Values in X:\\n\")\n",
    "print(X.isnull().sum(), end = \"\\n\")\n",
    "\n",
    "print(\"\\nMissing Values in y:\\n\")\n",
    "print(y.isnull().sum())\n",
    "\n",
    "'''\n",
    "#drop missing values: dataset.dropna(inplace = True)\n",
    "\n",
    "#replace missing values:\n",
    "    from sklearn.impute import SimpleImputer\n",
    "    imp = SimpleImputer(missing_values = np.nan, strategy = 'mean')\n",
    "    imp.fit(X[:, slice cols])\n",
    "    X[:, slice cols] = imp.transform(X[:, slice cols])\n",
    "'''"
   ]
  },
  {
   "cell_type": "code",
   "execution_count": null,
   "metadata": {},
   "outputs": [],
   "source": [
    "'''\n",
    "#data Encoding\n",
    "\n",
    "\n",
    "\n",
    "'''"
   ]
  }
 ],
 "metadata": {
  "kernelspec": {
   "display_name": "Python 3",
   "language": "python",
   "name": "python3"
  },
  "language_info": {
   "codemirror_mode": {
    "name": "ipython",
    "version": 3
   },
   "file_extension": ".py",
   "mimetype": "text/x-python",
   "name": "python",
   "nbconvert_exporter": "python",
   "pygments_lexer": "ipython3",
   "version": "3.12.5"
  }
 },
 "nbformat": 4,
 "nbformat_minor": 2
}
